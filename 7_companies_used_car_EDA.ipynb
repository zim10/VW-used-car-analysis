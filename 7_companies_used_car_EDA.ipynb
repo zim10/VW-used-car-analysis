{
  "nbformat": 4,
  "nbformat_minor": 0,
  "metadata": {
    "colab": {
      "name": "7_companies_used_car_EDA.ipynb",
      "provenance": [],
      "collapsed_sections": []
    },
    "kernelspec": {
      "name": "python3",
      "display_name": "Python 3"
    },
    "language_info": {
      "name": "python"
    }
  },
  "cells": [
    {
      "cell_type": "code",
      "metadata": {
        "id": "RGdDrE3E-8I1"
      },
      "source": [
        "import numpy as np\n",
        "import pandas as pd\n",
        "import matplotlib.pyplot as plt\n",
        "import seaborn as sns"
      ],
      "execution_count": 81,
      "outputs": []
    },
    {
      "cell_type": "code",
      "metadata": {
        "id": "bttzaxGJ_Zwz"
      },
      "source": [
        "# data read from google drive\n",
        "\n",
        "#df = pd.read_csv(\"/content/drive/MyDrive/Python programming/Dataset/audi.csv\")     # dataset for audi\n",
        "#df = pd.read_csv(\"/content/drive/MyDrive/Python programming/Dataset/toyota.csv\")   # dataset for toyota\n",
        "#df = pd.read_csv(\"/content/drive/MyDrive/Python programming/Dataset/skoda.csv\")    # dataset for skoda\n",
        "df = pd.read_csv(\"/content/drive/MyDrive/Python programming/Dataset/bmw.csv\")      # dataset for bmw\n",
        "#df = pd.read_csv(\"/content/drive/MyDrive/Python programming/Dataset/ford.csv\")     # dataset for ford\n",
        "#df = pd.read_csv(\"/content/drive/MyDrive/Python programming/Dataset/hyundai.csv\")  # dataset for hyundai\n",
        "#df = pd.read_csv(\"/content/drive/MyDrive/Python programming/Dataset/vw.csv\")        # dataset for vw\n"
      ],
      "execution_count": 82,
      "outputs": []
    },
    {
      "cell_type": "code",
      "metadata": {
        "colab": {
          "base_uri": "https://localhost:8080/",
          "height": 296
        },
        "id": "F7CnA5bN_p9j",
        "outputId": "299d7851-758c-48aa-da1a-ae15c2598a4a"
      },
      "source": [
        "display(df.shape)   # shape of the data row, column\n",
        "display(df.columns) # column name\n",
        "display(df.index)   # row index\n",
        "display(df.head(5))        # first 5 row of dataframe\n",
        "#df.tail(5)        # last 5 row of data"
      ],
      "execution_count": 83,
      "outputs": [
        {
          "output_type": "display_data",
          "data": {
            "text/plain": [
              "(10781, 8)"
            ]
          },
          "metadata": {
            "tags": []
          }
        },
        {
          "output_type": "display_data",
          "data": {
            "text/plain": [
              "Index(['model', 'year', 'price', 'transmission', 'mileage', 'fuelType', 'mpg',\n",
              "       'engineSize'],\n",
              "      dtype='object')"
            ]
          },
          "metadata": {
            "tags": []
          }
        },
        {
          "output_type": "display_data",
          "data": {
            "text/plain": [
              "RangeIndex(start=0, stop=10781, step=1)"
            ]
          },
          "metadata": {
            "tags": []
          }
        },
        {
          "output_type": "display_data",
          "data": {
            "text/html": [
              "<div>\n",
              "<style scoped>\n",
              "    .dataframe tbody tr th:only-of-type {\n",
              "        vertical-align: middle;\n",
              "    }\n",
              "\n",
              "    .dataframe tbody tr th {\n",
              "        vertical-align: top;\n",
              "    }\n",
              "\n",
              "    .dataframe thead th {\n",
              "        text-align: right;\n",
              "    }\n",
              "</style>\n",
              "<table border=\"1\" class=\"dataframe\">\n",
              "  <thead>\n",
              "    <tr style=\"text-align: right;\">\n",
              "      <th></th>\n",
              "      <th>model</th>\n",
              "      <th>year</th>\n",
              "      <th>price</th>\n",
              "      <th>transmission</th>\n",
              "      <th>mileage</th>\n",
              "      <th>fuelType</th>\n",
              "      <th>mpg</th>\n",
              "      <th>engineSize</th>\n",
              "    </tr>\n",
              "  </thead>\n",
              "  <tbody>\n",
              "    <tr>\n",
              "      <th>0</th>\n",
              "      <td>5 Series</td>\n",
              "      <td>2014</td>\n",
              "      <td>11200</td>\n",
              "      <td>Automatic</td>\n",
              "      <td>67068</td>\n",
              "      <td>Diesel</td>\n",
              "      <td>57.6</td>\n",
              "      <td>2.0</td>\n",
              "    </tr>\n",
              "    <tr>\n",
              "      <th>1</th>\n",
              "      <td>6 Series</td>\n",
              "      <td>2018</td>\n",
              "      <td>27000</td>\n",
              "      <td>Automatic</td>\n",
              "      <td>14827</td>\n",
              "      <td>Petrol</td>\n",
              "      <td>42.8</td>\n",
              "      <td>2.0</td>\n",
              "    </tr>\n",
              "    <tr>\n",
              "      <th>2</th>\n",
              "      <td>5 Series</td>\n",
              "      <td>2016</td>\n",
              "      <td>16000</td>\n",
              "      <td>Automatic</td>\n",
              "      <td>62794</td>\n",
              "      <td>Diesel</td>\n",
              "      <td>51.4</td>\n",
              "      <td>3.0</td>\n",
              "    </tr>\n",
              "    <tr>\n",
              "      <th>3</th>\n",
              "      <td>1 Series</td>\n",
              "      <td>2017</td>\n",
              "      <td>12750</td>\n",
              "      <td>Automatic</td>\n",
              "      <td>26676</td>\n",
              "      <td>Diesel</td>\n",
              "      <td>72.4</td>\n",
              "      <td>1.5</td>\n",
              "    </tr>\n",
              "    <tr>\n",
              "      <th>4</th>\n",
              "      <td>7 Series</td>\n",
              "      <td>2014</td>\n",
              "      <td>14500</td>\n",
              "      <td>Automatic</td>\n",
              "      <td>39554</td>\n",
              "      <td>Diesel</td>\n",
              "      <td>50.4</td>\n",
              "      <td>3.0</td>\n",
              "    </tr>\n",
              "  </tbody>\n",
              "</table>\n",
              "</div>"
            ],
            "text/plain": [
              "       model  year  price transmission  mileage fuelType   mpg  engineSize\n",
              "0   5 Series  2014  11200    Automatic    67068   Diesel  57.6         2.0\n",
              "1   6 Series  2018  27000    Automatic    14827   Petrol  42.8         2.0\n",
              "2   5 Series  2016  16000    Automatic    62794   Diesel  51.4         3.0\n",
              "3   1 Series  2017  12750    Automatic    26676   Diesel  72.4         1.5\n",
              "4   7 Series  2014  14500    Automatic    39554   Diesel  50.4         3.0"
            ]
          },
          "metadata": {
            "tags": []
          }
        }
      ]
    },
    {
      "cell_type": "code",
      "metadata": {
        "colab": {
          "base_uri": "https://localhost:8080/",
          "height": 308
        },
        "id": "CSJ2fDVg_uKK",
        "outputId": "e6ca5d8d-29ef-4014-8cb8-270e38700087"
      },
      "source": [
        "display(df.info())"
      ],
      "execution_count": 84,
      "outputs": [
        {
          "output_type": "stream",
          "text": [
            "<class 'pandas.core.frame.DataFrame'>\n",
            "RangeIndex: 10781 entries, 0 to 10780\n",
            "Data columns (total 8 columns):\n",
            " #   Column        Non-Null Count  Dtype  \n",
            "---  ------        --------------  -----  \n",
            " 0   model         10781 non-null  object \n",
            " 1   year          10781 non-null  int64  \n",
            " 2   price         10781 non-null  int64  \n",
            " 3   transmission  10781 non-null  object \n",
            " 4   mileage       10781 non-null  int64  \n",
            " 5   fuelType      10781 non-null  object \n",
            " 6   mpg           10781 non-null  float64\n",
            " 7   engineSize    10781 non-null  float64\n",
            "dtypes: float64(2), int64(3), object(3)\n",
            "memory usage: 673.9+ KB\n"
          ],
          "name": "stdout"
        },
        {
          "output_type": "display_data",
          "data": {
            "text/plain": [
              "None"
            ]
          },
          "metadata": {
            "tags": []
          }
        }
      ]
    },
    {
      "cell_type": "code",
      "metadata": {
        "id": "cGPawWAn_xYL"
      },
      "source": [
        "# function for each categorical column\n",
        "\n",
        "def percent_count(data, col):\n",
        "    col_count = data[col].value_counts(normalize = True)            # number of unique value in normalize\n",
        "    col_count  = pd.DataFrame(col_count)                            # make a dataframe\n",
        "    col_count = col_count.reset_index()                             # reset index\n",
        "    col_count = col_count.rename(columns={\"index\" : col,\n",
        "                                              col :  \" % of cars\"})  # rename columns using dictionary \n",
        "    col_count[\" % of cars\"] = col_count[\" % of cars\"] * 100          # percentage \n",
        "    col_count[\" % of cars\"] = col_count[\" % of cars\"].round(2)       # decimal round\n",
        "    if col ==\"year\": \n",
        "      col_count = col_count.sort_values(by = col,ascending= False)    # only year column sort in year wise \n",
        "      col_count = col_count[col_count[\" % of cars\"] > 0.21]           # and did not take all year because of good visualization \n",
        "      return col_count\n",
        "    if col == \"model\" :\n",
        "       col_count = col_count[col_count[\" % of cars\"] > 0.21]          # did not all model value because of good presentation\n",
        "       return col_count\n",
        "    else:\n",
        "      return col_count"
      ],
      "execution_count": 85,
      "outputs": []
    },
    {
      "cell_type": "code",
      "metadata": {
        "colab": {
          "base_uri": "https://localhost:8080/",
          "height": 205
        },
        "id": "e2FE_N3C_91k",
        "outputId": "b0b85254-d284-4f9b-dc84-e911e5cfaaff"
      },
      "source": [
        "model_count = percent_count(df, \"model\")\n",
        "year_count = percent_count(df, \"year\")\n",
        "transmission_count = percent_count(df, \"transmission\")\n",
        "fuelType_count = percent_count(df, \"fuelType\")\n",
        "display(fuelType_count)"
      ],
      "execution_count": 86,
      "outputs": [
        {
          "output_type": "display_data",
          "data": {
            "text/html": [
              "<div>\n",
              "<style scoped>\n",
              "    .dataframe tbody tr th:only-of-type {\n",
              "        vertical-align: middle;\n",
              "    }\n",
              "\n",
              "    .dataframe tbody tr th {\n",
              "        vertical-align: top;\n",
              "    }\n",
              "\n",
              "    .dataframe thead th {\n",
              "        text-align: right;\n",
              "    }\n",
              "</style>\n",
              "<table border=\"1\" class=\"dataframe\">\n",
              "  <thead>\n",
              "    <tr style=\"text-align: right;\">\n",
              "      <th></th>\n",
              "      <th>fuelType</th>\n",
              "      <th>% of cars</th>\n",
              "    </tr>\n",
              "  </thead>\n",
              "  <tbody>\n",
              "    <tr>\n",
              "      <th>0</th>\n",
              "      <td>Diesel</td>\n",
              "      <td>65.18</td>\n",
              "    </tr>\n",
              "    <tr>\n",
              "      <th>1</th>\n",
              "      <td>Petrol</td>\n",
              "      <td>31.69</td>\n",
              "    </tr>\n",
              "    <tr>\n",
              "      <th>2</th>\n",
              "      <td>Hybrid</td>\n",
              "      <td>2.76</td>\n",
              "    </tr>\n",
              "    <tr>\n",
              "      <th>3</th>\n",
              "      <td>Other</td>\n",
              "      <td>0.33</td>\n",
              "    </tr>\n",
              "    <tr>\n",
              "      <th>4</th>\n",
              "      <td>Electric</td>\n",
              "      <td>0.03</td>\n",
              "    </tr>\n",
              "  </tbody>\n",
              "</table>\n",
              "</div>"
            ],
            "text/plain": [
              "   fuelType   % of cars\n",
              "0    Diesel       65.18\n",
              "1    Petrol       31.69\n",
              "2    Hybrid        2.76\n",
              "3     Other        0.33\n",
              "4  Electric        0.03"
            ]
          },
          "metadata": {
            "tags": []
          }
        }
      ]
    },
    {
      "cell_type": "code",
      "metadata": {
        "id": "95zi9x2HAFV2"
      },
      "source": [
        "# plot all,  using a single function\n",
        "def bar_plot(data, x_col, y_col, color,yticks, rotation):\n",
        "    sns.barplot(x = x_col, y = y_col, data = data, color = color) \n",
        "    plt.title(\" Percentage of cars for each \" + x_col)                                  \n",
        "    plt.yticks(yticks)                                                 \n",
        "    plt.xticks(rotation = rotation) "
      ],
      "execution_count": 87,
      "outputs": []
    },
    {
      "cell_type": "code",
      "metadata": {
        "colab": {
          "base_uri": "https://localhost:8080/"
        },
        "id": "V9E09ll0QG30",
        "outputId": "1ef34a28-618c-45c7-b116-1c62057b1577"
      },
      "source": [
        "x = input(\"Enter the car company name\")   # give the name of car company"
      ],
      "execution_count": 88,
      "outputs": [
        {
          "output_type": "stream",
          "text": [
            "Enter the car company nameBMW\n"
          ],
          "name": "stdout"
        }
      ]
    },
    {
      "cell_type": "code",
      "metadata": {
        "colab": {
          "base_uri": "https://localhost:8080/",
          "height": 717
        },
        "id": "Y81T5WI8AOJG",
        "outputId": "74c369f4-c50f-4ade-f013-96f4c694c52a"
      },
      "source": [
        "# all four graph in a figure using subplot and function\n",
        "sns.set_context(\"talk\")                                                         \n",
        "plt.figure(figsize= (15,10))\n",
        "\n",
        "plt.subplot(2,2,1)  \n",
        "bar_plot(model_count,\"model\", \" % of cars\",\"green\",np.arange(0,60,10), 90) \n",
        "                                                   \n",
        "plt.subplot(2,2,2)\n",
        "bar_plot(year_count,\"year\", \" % of cars\",\"blue\",np.arange(0,60,10), 90) \n",
        "                                                  \n",
        "\n",
        "plt.subplot(2,2,3)\n",
        "bar_plot(transmission_count,\"transmission\", \" % of cars\", \"orange\",np.arange(0,100,10), 0) \n",
        "\n",
        "plt.subplot(2,2,4)\n",
        "bar_plot(fuelType_count,\"fuelType\", \" % of cars\",\"red\", np.arange(0,100,10), 0) \n",
        "plt.suptitle(\" Categorical columns in the \" + x +\" car\")   # suptitle name change according to data , here use audi\n",
        "\n",
        "plt.tight_layout(rect=[0, 0, 1, 0.90])                                                         \n",
        "plt.show()  "
      ],
      "execution_count": 89,
      "outputs": [
        {
          "output_type": "display_data",
          "data": {
            "image/png": "[encoded data removed]",
            "text/plain": [
              "<Figure size 1080x720 with 4 Axes>"
            ]
          },
          "metadata": {
            "tags": [],
            "needs_background": "light"
          }
        }
      ]
    }
  ]
}